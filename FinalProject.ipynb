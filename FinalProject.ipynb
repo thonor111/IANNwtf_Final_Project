{
  "nbformat": 4,
  "nbformat_minor": 0,
  "metadata": {
    "colab": {
      "name": "FinalProject.ipynb",
      "provenance": [],
      "collapsed_sections": []
    },
    "kernelspec": {
      "name": "python3",
      "display_name": "Python 3"
    },
    "language_info": {
      "name": "python"
    }
  },
  "cells": [
    {
      "cell_type": "code",
      "source": [
        "import tensorflow as tf\n",
        "import numpy as np\n",
        "import tensorflow.keras as K\n",
        "import tensorflow_datasets as tfds"
      ],
      "metadata": {
        "id": "2tEdfjHMh3w7"
      },
      "execution_count": 5,
      "outputs": []
    },
    {
      "cell_type": "code",
      "source": [
        "tf.keras.backend.clear_session()\n",
        "\n",
        "# load dataset and split into to train (25,000) examples and test (2,500 examples) sets\n",
        "train_data, test_data = tfds.load('imdb_reviews', split=['train', 'test[:10%]'], as_supervised=True)"
      ],
      "metadata": {
        "id": "edxGhI6fkJrL"
      },
      "execution_count": 7,
      "outputs": []
    },
    {
      "cell_type": "code",
      "source": [
        "def prepare_data(data):\n",
        "\n",
        "  data = data.cache()\n",
        "  data = data.shuffle(1000)\n",
        "  data = data.batch(10)\n",
        "  data = data.prefetch(20)\n",
        "\n",
        "  return data"
      ],
      "metadata": {
        "id": "-XRgcz3JnkOK"
      },
      "execution_count": 18,
      "outputs": []
    },
    {
      "cell_type": "code",
      "source": [
        "train_data = train_data.apply(prepare_data)\n",
        "test_data = test_data.apply(prepare_data)"
      ],
      "metadata": {
        "id": "-Kn-LEr4oSC2"
      },
      "execution_count": 19,
      "outputs": []
    },
    {
      "cell_type": "code",
      "source": [
        ""
      ],
      "metadata": {
        "id": "C8NDruyXoX_C"
      },
      "execution_count": null,
      "outputs": []
    },
    {
      "cell_type": "markdown",
      "source": [
        ""
      ],
      "metadata": {
        "id": "W_LVOcNM6L4n"
      }
    }
  ]
}